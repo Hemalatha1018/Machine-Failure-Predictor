{
  "nbformat": 4,
  "nbformat_minor": 0,
  "metadata": {
    "colab": {
      "provenance": []
    },
    "kernelspec": {
      "name": "python3",
      "display_name": "Python 3"
    },
    "language_info": {
      "name": "python"
    }
  },
  "cells": [
    {
      "cell_type": "code",
      "execution_count": null,
      "metadata": {
        "id": "_g5uHAAi8WGR"
      },
      "outputs": [],
      "source": [
        "import requests\n",
        "\n",
        "url = 'http://localhost:5000/predict_api'\n",
        "r = requests.post(url,json={'Type':1, 'Air temperature [°C]':9, 'Process temperature [°C]':6,\n",
        "                            'Rotational speed [rpm]':1500,'Torque [Nm]':31.8,'Tool wear [min]':150,\n",
        "                            'Temperature difference [°C]':10.5})\n",
        "\n",
        "print(r.json())"
      ]
    }
  ]
}