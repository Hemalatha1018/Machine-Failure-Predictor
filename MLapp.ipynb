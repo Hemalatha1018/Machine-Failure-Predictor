{
  "nbformat": 4,
  "nbformat_minor": 0,
  "metadata": {
    "colab": {
      "provenance": []
    },
    "kernelspec": {
      "name": "python3",
      "display_name": "Python 3"
    },
    "language_info": {
      "name": "python"
    }
  },
  "cells": [
    {
      "cell_type": "code",
      "execution_count": 1,
      "metadata": {
        "id": "yYExAMyD5cUM"
      },
      "outputs": [],
      "source": [
        "import numpy as np\n",
        "from flask import Flask, request, jsonify, render_template\n",
        "import joblib  # Use joblib instead of pickle\n",
        "\n",
        "app = Flask(__name__)\n",
        "model = joblib.load('model (1).pkl')  # Load the model using joblib\n",
        "\n",
        "@app.route('/')\n",
        "def home():\n",
        "    return render_template('pmc.html')\n",
        "\n",
        "@app.route('/predict', methods=['POST'])\n",
        "def predict():\n",
        "    '''\n",
        "    For rendering results on HTML GUI\n",
        "    '''\n",
        "    data = [np.array(list(request.form.values()))]\n",
        "    prediction = model.predict(data)\n",
        "    output = prediction[0]\n",
        "    return render_template('pmc.html', prediction_text=f'Prediction: {output}')\n",
        "\n",
        "if __name__ == \"__main__\":\n",
        "    app.run(debug=True)"
      ]
    }
  ]
}